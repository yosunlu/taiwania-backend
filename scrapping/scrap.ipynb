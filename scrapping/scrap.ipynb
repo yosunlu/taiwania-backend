{
 "cells": [
  {
   "cell_type": "code",
   "execution_count": 2,
   "id": "cd7bb4ad-f358-4cb9-b1b8-3da6990008f4",
   "metadata": {},
   "outputs": [],
   "source": [
    "from bs4 import BeautifulSoup\n",
    "import requests\n",
    "import pandas as pd"
   ]
  },
  {
   "cell_type": "code",
   "execution_count": 3,
   "id": "d088afb7-1856-4e6f-b37a-5420349a58ec",
   "metadata": {},
   "outputs": [],
   "source": [
    "url = 'https://sutian.moe.edu.tw/zh-hant/huliok/106/'\n",
    "page = requests.get(url)\n",
    "soup = BeautifulSoup(page.text, 'html')"
   ]
  },
  {
   "cell_type": "code",
   "execution_count": 9,
   "id": "d33e3626-d10c-4ee5-86f7-5a82c22d732a",
   "metadata": {},
   "outputs": [],
   "source": [
    "url = 'https://sutian.moe.edu.tw/zh-hant/huliok/106/'\n",
    "page = requests.get(url)\n",
    "soup = BeautifulSoup(page.text, 'html.parser') \n",
    "table = soup.find_all('table')\n",
    "\n",
    "# Find all <th> elements (table headers)\n",
    "titles = soup.find_all('th')  \n",
    "\n",
    "# Extract text from the <th> elements\n",
    "table_titles = [title.text.strip() for title in titles]\n",
    "\n",
    "# Create a DataFrame with the first four titles as headers\n",
    "headers = table_titles[:4]\n",
    "df = pd.DataFrame(columns=headers)\n",
    "\n",
    "# Add an additional 'href' column\n",
    "df['href'] = None"
   ]
  },
  {
   "cell_type": "code",
   "execution_count": 10,
   "id": "1335d8a0-412f-4fde-b2b3-bded7cb6a44e",
   "metadata": {},
   "outputs": [],
   "source": [
    "def scrapSinglePage(page):\n",
    "    pageNum = str(page)\n",
    "    url = 'https://sutian.moe.edu.tw/zh-hant/huliok/106/?iahbe=' + pageNum\n",
    "    curPage = requests.get(url)\n",
    "    soup = BeautifulSoup(curPage.text, 'html')\n",
    "    table = soup.find_all('table')\n",
    "    \n",
    "    for row in table[:-1]:\n",
    "        row_data = row.find_all('td')\n",
    "        a_tag  = row.find('a')\n",
    "        href_value = a_tag['href']\n",
    "        individual_row_data = []\n",
    "        for data in row_data:\n",
    "            # Strip and clean the text\n",
    "            cleaned_text = data.text.strip().replace('\\n', '').replace('\\t', '').replace('\\r', '')\n",
    "            \n",
    "            # Find the first period and keep everything up to and including it\n",
    "            period_index = cleaned_text.find('.')\n",
    "            if period_index != -1:\n",
    "                cleaned_text = cleaned_text[:period_index + 1]\n",
    "        \n",
    "            individual_row_data.append(cleaned_text)\n",
    "            \n",
    "        individual_row_data.append(\"https://sutian.moe.edu.tw/\" + href_value)\n",
    "        length = len(df)\n",
    "        df.loc[length] = individual_row_data\n"
   ]
  },
  {
   "cell_type": "code",
   "execution_count": 11,
   "id": "4f9d28b7-0282-4d6f-b485-b1cc9833276f",
   "metadata": {},
   "outputs": [],
   "source": [
    "for i in range(20):\n",
    "    scrapSinglePage(i)"
   ]
  },
  {
   "cell_type": "code",
   "execution_count": 12,
   "id": "8ba8a693-54c3-44a2-af5b-9678618d9da1",
   "metadata": {},
   "outputs": [],
   "source": [
    "new_column_name = 'tags'\n",
    "new_column_data = \"slang\"  # or you can use a list of values with the same length as the DataFrame\n",
    "\n",
    "# Insert the new column at position 3 (between the third and fourth columns)\n",
    "df.insert(4, new_column_name, new_column_data)"
   ]
  },
  {
   "cell_type": "code",
   "execution_count": 13,
   "id": "103b0826-6f00-44fa-a798-e913b4e571c5",
   "metadata": {},
   "outputs": [],
   "source": [
    "df.to_csv('output.csv', sep='|', index=False)"
   ]
  },
  {
   "cell_type": "code",
   "execution_count": null,
   "id": "7b779cdf-e3cd-4878-b7a6-fb31b2e2493b",
   "metadata": {},
   "outputs": [],
   "source": []
  }
 ],
 "metadata": {
  "kernelspec": {
   "display_name": "Python 3 (ipykernel)",
   "language": "python",
   "name": "python3"
  },
  "language_info": {
   "codemirror_mode": {
    "name": "ipython",
    "version": 3
   },
   "file_extension": ".py",
   "mimetype": "text/x-python",
   "name": "python",
   "nbconvert_exporter": "python",
   "pygments_lexer": "ipython3",
   "version": "3.11.7"
  }
 },
 "nbformat": 4,
 "nbformat_minor": 5
}
